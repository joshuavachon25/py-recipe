{
 "cells": [
  {
   "cell_type": "markdown",
   "metadata": {
    "id": "Y79G5HxaKhgk"
   },
   "source": [
    "## Initialisation des librairies\n"
   ]
  },
  {
   "cell_type": "code",
   "execution_count": 1,
   "metadata": {
    "colab": {
     "base_uri": "https://localhost:8080/"
    },
    "id": "BIIF9xd9AEeg",
    "outputId": "9234ba63-fb4d-40e9-ca18-f7d9b676be24"
   },
   "outputs": [
    {
     "name": "stdout",
     "output_type": "stream",
     "text": [
      "Requirement already satisfied: beautifulsoup4 in c:\\programdata\\anaconda3\\lib\\site-packages (4.9.3)Note: you may need to restart the kernel to use updated packages.\n",
      "\n",
      "Requirement already satisfied: soupsieve>1.2; python_version >= \"3.0\" in c:\\programdata\\anaconda3\\lib\\site-packages (from beautifulsoup4) (2.0.1)\n"
     ]
    }
   ],
   "source": [
    "pip install beautifulsoup4"
   ]
  },
  {
   "cell_type": "code",
   "execution_count": 2,
   "metadata": {
    "id": "B21eiWLHKJw9"
   },
   "outputs": [],
   "source": [
    "from urllib.request import urlopen\n",
    "from bs4 import BeautifulSoup\n",
    "import csv\n",
    "import json\n",
    "import re"
   ]
  },
  {
   "cell_type": "markdown",
   "metadata": {
    "id": "NxrfxYNJKwbh"
   },
   "source": [
    "## Lister les URL des livres"
   ]
  },
  {
   "cell_type": "code",
   "execution_count": 3,
   "metadata": {
    "id": "d9ZC9c5kKeH8"
   },
   "outputs": [],
   "source": [
    "# Initialisation des variables\n",
    "baseURL = \"https://archive.org/details/cbk?and%5B%5D=languageSorter%3A%22English%22&and%5B%5D=mediatype%3A%22texts%22&sort=date&page=\"\n",
    "deb = 1\n",
    "fin = 40\n",
    "livres = []\n",
    "\n",
    "# Deux boucles for; La première parcourt les pages, la seconde les liens sur chaque page.\n",
    "for page in range(deb,fin,1):\n",
    "    html = urlopen(baseURL + str(page))\n",
    "    bs = BeautifulSoup(html.read(), 'html.parser')\n",
    "    \n",
    "    for lien in bs.find('div',{'class':'results'}).find_all('div', {'class':'item-ttl'}):\n",
    "        livres.append('https://archive.org' + lien.a.attrs['href'])"
   ]
  },
  {
   "cell_type": "code",
   "execution_count": 5,
   "metadata": {
    "id": "kTQHodBONo4S"
   },
   "outputs": [],
   "source": [
    "metadata = []\n",
    "g = open('metadata.csv', 'w', encoding='UTF8')\n",
    "writer = csv.writer(g)\n",
    "writer.writerow(['titre', 'date', 'editeur', 'fichier'])\n",
    "for livre in livres:\n",
    "    html = urlopen(livre)\n",
    "    bs = BeautifulSoup(html.read(), 'html.parser')\n",
    "\n",
    "    try:\n",
    "        titre = bs.find('h1', {'class': 'item-title'}).span.text\n",
    "    except:\n",
    "        titre = \"\"\n",
    "\n",
    "    try:\n",
    "        date = bs.find('span', {'itemprop': 'datePublished'}).text\n",
    "    except:\n",
    "        date = \"\"\n",
    "\n",
    "    try:\n",
    "        publisher = bs.find('span', {'itemprop': 'publisher'}).text\n",
    "    except:\n",
    "        publisher = \"\"\n",
    "\n",
    "    html = urlopen('https://archive.org/stream' + livre[27:] + livre[27:] + '_djvu.txt')\n",
    "    bs = BeautifulSoup(html.read(), 'html.parser')\n",
    "    try:\n",
    "        texte = bs.find('pre').text\n",
    "    except:\n",
    "        texte = \"TEXTE PAS OCÉRISÉ\"\n",
    "\n",
    "    dateFormate = re.sub(r'[^a-zA-Z0-9]', '', date)\n",
    "    titreFormate = re.sub(r'[^a-zA-Z0-9]', '', titre)\n",
    "\n",
    "    nom =  dateFormate + \"_\" + titreFormate[0:20] + '.txt'\n",
    "    writer.writerow([titre, date, publisher,  dateFormate + \"_\" +  titreFormate[0:20] + '.txt'])\n",
    "    f = open(nom, \"a\", encoding=\"utf-8\")\n",
    "    f.write(texte)\n",
    "    f.close()\n",
    "\n",
    "g.close()"
   ]
  },
  {
   "cell_type": "code",
   "execution_count": null,
   "metadata": {},
   "outputs": [],
   "source": []
  }
 ],
 "metadata": {
  "colab": {
   "collapsed_sections": [],
   "name": "py-recipe.ipynb",
   "provenance": []
  },
  "kernelspec": {
   "display_name": "Python 3",
   "language": "python",
   "name": "python3"
  },
  "language_info": {
   "codemirror_mode": {
    "name": "ipython",
    "version": 3
   },
   "file_extension": ".py",
   "mimetype": "text/x-python",
   "name": "python",
   "nbconvert_exporter": "python",
   "pygments_lexer": "ipython3",
   "version": "3.8.5"
  }
 },
 "nbformat": 4,
 "nbformat_minor": 1
}
