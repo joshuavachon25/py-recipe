{
  "nbformat": 4,
  "nbformat_minor": 0,
  "metadata": {
    "colab": {
      "name": "py-recipe.ipynb",
      "provenance": [],
      "collapsed_sections": [],
      "authorship_tag": "ABX9TyP1zNf0Wk5QF/bKQF2/6+0T",
      "include_colab_link": true
    },
    "kernelspec": {
      "name": "python3",
      "display_name": "Python 3"
    },
    "language_info": {
      "name": "python"
    }
  },
  "cells": [
    {
      "cell_type": "markdown",
      "metadata": {
        "id": "view-in-github",
        "colab_type": "text"
      },
      "source": [
        "<a href=\"https://colab.research.google.com/github/joshuavachon25/py-recipe/blob/main/py_recipe.ipynb\" target=\"_parent\"><img src=\"https://colab.research.google.com/assets/colab-badge.svg\" alt=\"Open In Colab\"/></a>"
      ]
    },
    {
      "cell_type": "markdown",
      "metadata": {
        "id": "Y79G5HxaKhgk"
      },
      "source": [
        "## Initialisation des librairies\n"
      ]
    },
    {
      "cell_type": "code",
      "metadata": {
        "colab": {
          "base_uri": "https://localhost:8080/"
        },
        "id": "BIIF9xd9AEeg",
        "outputId": "bb5cc0c4-0321-4a12-da35-82ea0d217722"
      },
      "source": [
        "pip install beautifulsoup4"
      ],
      "execution_count": null,
      "outputs": [
        {
          "output_type": "stream",
          "name": "stdout",
          "text": [
            "Requirement already satisfied: beautifulsoup4 in /usr/local/lib/python3.7/dist-packages (4.6.3)\n"
          ]
        }
      ]
    },
    {
      "cell_type": "code",
      "metadata": {
        "id": "B21eiWLHKJw9"
      },
      "source": [
        "from urllib.request import urlopen\n",
        "from bs4 import BeautifulSoup\n",
        "import csv\n",
        "import json\n",
        "import re"
      ],
      "execution_count": 21,
      "outputs": []
    },
    {
      "cell_type": "code",
      "metadata": {
        "colab": {
          "base_uri": "https://localhost:8080/"
        },
        "id": "q9eYuvGDVYNm",
        "outputId": "63999224-1291-406e-83a9-bfd8f958d351"
      },
      "source": [
        "from google.colab import drive\n",
        "drive.mount('/content/gdrive')"
      ],
      "execution_count": null,
      "outputs": [
        {
          "output_type": "stream",
          "name": "stdout",
          "text": [
            "Mounted at /content/gdrive\n"
          ]
        }
      ]
    },
    {
      "cell_type": "markdown",
      "metadata": {
        "id": "NxrfxYNJKwbh"
      },
      "source": [
        "## Lister les URL des livres"
      ]
    },
    {
      "cell_type": "code",
      "metadata": {
        "id": "d9ZC9c5kKeH8"
      },
      "source": [
        "# Initialisation des variables\n",
        "baseURL = \"https://archive.org/details/cbk?and%5B%5D=languageSorter%3A%22English%22&and%5B%5D=mediatype%3A%22texts%22&sort=date&page=\"\n",
        "deb = 1\n",
        "fin = 40\n",
        "livres = []\n",
        "\n",
        "# Deux boucles for; La première parcourt les pages, la seconde les liens sur chaque page.\n",
        "for page in range(deb,fin,1):\n",
        "    html = urlopen(baseURL + str(page))\n",
        "    bs = BeautifulSoup(html.read(), 'html.parser')\n",
        "    \n",
        "    for lien in bs.find('div',{'class':'results'}).find_all('div', {'class':'item-ttl'}):\n",
        "        livres.append('https://archive.org' + lien.a.attrs['href'])"
      ],
      "execution_count": null,
      "outputs": []
    },
    {
      "cell_type": "code",
      "metadata": {
        "colab": {
          "base_uri": "https://localhost:8080/",
          "height": 232
        },
        "id": "kTQHodBONo4S",
        "outputId": "33010ff4-af13-4b93-a3c9-36740f42273a"
      },
      "source": [
        "metadata = []\n",
        "g = open('metadata.csv', 'w', encoding='UTF8')\n",
        "writer = csv.writer(g)\n",
        "writer.writerow(['titre', 'date', 'editeur', 'fichier'])\n",
        "for livre in livres:\n",
        "    html = urlopen(livre)\n",
        "    bs = BeautifulSoup(html.read(), 'html.parser')\n",
        "\n",
        "    try:\n",
        "        titre = bs.find('h1', {'class': 'item-title'}).span.text\n",
        "    except:\n",
        "        titre = \"\"\n",
        "\n",
        "    try:\n",
        "        date = bs.find('span', {'itemprop': 'datePublished'}).text\n",
        "    except:\n",
        "        date = \"\"\n",
        "\n",
        "    try:\n",
        "        publisher = bs.find('span', {'itemprop': 'publisher'}).text\n",
        "    except:\n",
        "        publisher = \"\"\n",
        "\n",
        "    html = urlopen('https://archive.org/stream' + livre[27:] + livre[27:] + '_djvu.txt')\n",
        "    bs = BeautifulSoup(html.read(), 'html.parser')\n",
        "    try:\n",
        "        texte = bs.find('pre').text\n",
        "    except:\n",
        "        texte = \"TEXTE PAS OCÉRISÉ\"\n",
        "\n",
        "    titreFormate = re.sub(r'[^a-zA-Z0-9]', '', titre)\n",
        "\n",
        "    nom = date + \"_\" + titreFormate[0:20] + '.txt'\n",
        "    writer.writerow([titre, date, publisher, date + \"_\" +  titreFormate[0:20] + '.txt'])\n",
        "    f = open(nom, \"a\", encoding=\"utf-8\")\n",
        "    f.write(texte)\n",
        "    f.close()\n",
        "\n",
        "g.close()"
      ],
      "execution_count": null,
      "outputs": [
        {
          "output_type": "error",
          "ename": "FileNotFoundError",
          "evalue": "ignored",
          "traceback": [
            "\u001b[0;31m---------------------------------------------------------------------------\u001b[0m",
            "\u001b[0;31mFileNotFoundError\u001b[0m                         Traceback (most recent call last)",
            "\u001b[0;32m<ipython-input-18-e4c43299eba8>\u001b[0m in \u001b[0;36m<module>\u001b[0;34m()\u001b[0m\n\u001b[1;32m     31\u001b[0m     \u001b[0mnom\u001b[0m \u001b[0;34m=\u001b[0m \u001b[0mdate\u001b[0m \u001b[0;34m+\u001b[0m \u001b[0;34m\"_\"\u001b[0m \u001b[0;34m+\u001b[0m \u001b[0mtitre\u001b[0m\u001b[0;34m[\u001b[0m\u001b[0;36m0\u001b[0m\u001b[0;34m:\u001b[0m\u001b[0;36m20\u001b[0m\u001b[0;34m]\u001b[0m\u001b[0;34m.\u001b[0m\u001b[0mreplace\u001b[0m\u001b[0;34m(\u001b[0m\u001b[0;34m\" \"\u001b[0m\u001b[0;34m,\u001b[0m \u001b[0;34m\"_\"\u001b[0m\u001b[0;34m)\u001b[0m \u001b[0;34m+\u001b[0m \u001b[0;34m'.txt'\u001b[0m\u001b[0;34m\u001b[0m\u001b[0;34m\u001b[0m\u001b[0m\n\u001b[1;32m     32\u001b[0m     \u001b[0mwriter\u001b[0m\u001b[0;34m.\u001b[0m\u001b[0mwriterow\u001b[0m\u001b[0;34m(\u001b[0m\u001b[0;34m[\u001b[0m\u001b[0mtitre\u001b[0m\u001b[0;34m,\u001b[0m \u001b[0mdate\u001b[0m\u001b[0;34m,\u001b[0m \u001b[0mpublisher\u001b[0m\u001b[0;34m,\u001b[0m \u001b[0mdate\u001b[0m \u001b[0;34m+\u001b[0m \u001b[0;34m\"_\"\u001b[0m \u001b[0;34m+\u001b[0m \u001b[0mtitre\u001b[0m\u001b[0;34m[\u001b[0m\u001b[0;36m0\u001b[0m\u001b[0;34m:\u001b[0m\u001b[0;36m20\u001b[0m\u001b[0;34m]\u001b[0m\u001b[0;34m.\u001b[0m\u001b[0mreplace\u001b[0m\u001b[0;34m(\u001b[0m\u001b[0;34m\" \"\u001b[0m\u001b[0;34m,\u001b[0m \u001b[0;34m\"_\"\u001b[0m\u001b[0;34m)\u001b[0m \u001b[0;34m+\u001b[0m \u001b[0;34m'.txt'\u001b[0m\u001b[0;34m]\u001b[0m\u001b[0;34m)\u001b[0m\u001b[0;34m\u001b[0m\u001b[0;34m\u001b[0m\u001b[0m\n\u001b[0;32m---> 33\u001b[0;31m     \u001b[0mf\u001b[0m \u001b[0;34m=\u001b[0m \u001b[0mopen\u001b[0m\u001b[0;34m(\u001b[0m\u001b[0mnom\u001b[0m\u001b[0;34m,\u001b[0m \u001b[0;34m\"a\"\u001b[0m\u001b[0;34m,\u001b[0m \u001b[0mencoding\u001b[0m\u001b[0;34m=\u001b[0m\u001b[0;34m\"utf-8\"\u001b[0m\u001b[0;34m)\u001b[0m\u001b[0;34m\u001b[0m\u001b[0;34m\u001b[0m\u001b[0m\n\u001b[0m\u001b[1;32m     34\u001b[0m     \u001b[0mf\u001b[0m\u001b[0;34m.\u001b[0m\u001b[0mwrite\u001b[0m\u001b[0;34m(\u001b[0m\u001b[0mtexte\u001b[0m\u001b[0;34m)\u001b[0m\u001b[0;34m\u001b[0m\u001b[0;34m\u001b[0m\u001b[0m\n\u001b[1;32m     35\u001b[0m     \u001b[0mf\u001b[0m\u001b[0;34m.\u001b[0m\u001b[0mclose\u001b[0m\u001b[0;34m(\u001b[0m\u001b[0;34m)\u001b[0m\u001b[0;34m\u001b[0m\u001b[0;34m\u001b[0m\u001b[0m\n",
            "\u001b[0;31mFileNotFoundError\u001b[0m: [Errno 2] No such file or directory: '1916_F.S._&_P.I._/_Recipe.txt'"
          ]
        }
      ]
    }
  ]
}